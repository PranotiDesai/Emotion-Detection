{
 "cells": [
  {
   "cell_type": "markdown",
   "metadata": {},
   "source": [
    "## EMotion Detection from Text Data\n",
    "\n",
    "We have taken the dataset from the Kaggle https://www.kaggle.com/c/sa-emotions"
   ]
  },
  {
   "cell_type": "markdown",
   "metadata": {},
   "source": [
    "### Load the Libraries"
   ]
  },
  {
   "cell_type": "code",
   "execution_count": 9,
   "metadata": {},
   "outputs": [],
   "source": [
    "import re\n",
    "import nltk\n",
    "import sklearn\n",
    "import numpy as np\n",
    "import pandas as pd\n",
    "from nltk.corpus import stopwords\n",
    "from nltk.stem import WordNetLemmatizer\n",
    "from keras.preprocessing.text import Tokenizer\n",
    "from keras.preprocessing.sequence import pad_sequences\n",
    "from keras.models import Sequential, load_model\n",
    "from keras.layers import Dropout\n",
    "from keras.layers.convolutional import Conv1D\n",
    "from keras.layers.convolutional import MaxPooling1D\n",
    "from keras.layers import Embedding,LSTM, Dense, SpatialDropout1D\n",
    "from sklearn.preprocessing import LabelEncoder, OneHotEncoder\n",
    "from sklearn.metrics import classification_report, roc_curve, auc, confusion_matrix\n",
    "from sklearn.model_selection import train_test_split\n",
    "from sklearn.utils import class_weight"
   ]
  },
  {
   "cell_type": "code",
   "execution_count": 10,
   "metadata": {},
   "outputs": [
    {
     "data": {
      "text/plain": [
       "[name: \"/device:CPU:0\"\n",
       " device_type: \"CPU\"\n",
       " memory_limit: 268435456\n",
       " locality {\n",
       " }\n",
       " incarnation: 6044468336669264752]"
      ]
     },
     "execution_count": 10,
     "metadata": {},
     "output_type": "execute_result"
    }
   ],
   "source": [
    "from tensorflow.python.client import device_lib\n",
    "device_lib.list_local_devices()"
   ]
  },
  {
   "cell_type": "markdown",
   "metadata": {},
   "source": [
    "### Read the dataset"
   ]
  },
  {
   "cell_type": "code",
   "execution_count": 11,
   "metadata": {},
   "outputs": [],
   "source": [
    "#data = pd.read_csv('data/train_data.csv')\n",
    "data_raw = pd.read_csv('data/isear.csv', error_bad_lines=False,sep=\"|\")\n",
    "data=pd.DataFrame({'content':data_raw['SIT'],'sentiment':data_raw['Field1']})"
   ]
  },
  {
   "cell_type": "code",
   "execution_count": 39,
   "metadata": {},
   "outputs": [],
   "source": [
    "class EmotionClassifier:\n",
    "    def __init__(self):\n",
    "        self.model = None\n",
    "        self.label_encoder = None\n",
    "\n",
    "        # most used n words\n",
    "        self.max_num_words = None\n",
    "        # max length of each text\n",
    "        self.max_text_length = None\n",
    "        # feature size of each vector\n",
    "        self.feature_vector_size = None\n",
    "\n",
    "        self.emotions_labels_map = {'anger': 0, 'disgust': 1, 'fear': 2, 'guilt': 3, 'joy': 4, 'sadness': 5, 'shame': 6}\n",
    "        self.labels_emotions_map = {0: 'anger', 1: 'disgust', 2: 'fear', 3: 'guilt', 4: 'joy', 5: 'sadness', 6: 'shame'}\n",
    "\n",
    "    def clean_text(text):\n",
    "        \"\"\"Clean_text\"\"\"\n",
    "        text = re.sub('[^a-zA-z0-9\\s]', '', text)\n",
    "        stop_words_list = set(stopwords.words('english'))\n",
    "        lemmatizer = WordNetLemmatizer()\n",
    "        words = nltk.word_tokenize(text)\n",
    "        words = [re.sub(\"\\\\\\\\\", '', word.lower()) for word in words if\n",
    "                 word.lower() not in stop_words_list and word.isalpha()]  # filter(lambda word: word not in stop_words_list, text.split())\n",
    "        words = [lemmatizer.lemmatize(word) for word in words]\n",
    "\n",
    "        text = \" \".join(words)\n",
    "        return text\n",
    "\n",
    "    def fit_label_encoder(self, labels):\n",
    "        \"\"\"Fit the label enocder to one-hot encode the labels\"\"\"\n",
    "        self.label_encoder = OneHotEncoder(categories='auto')\n",
    "        self.label_encoder.fit(labels)\n",
    "\n",
    "    def encode_labels(self, labels):\n",
    "        \"\"\"Encode the labels\"\"\"\n",
    "        return self.label_encoder.transform(labels).toarray()\n",
    "\n",
    "    def create_tokenizer(self, texts, max_num_words, max_text_length=500):\n",
    "        \"\"\"Fit a text tokenizer\"\"\"\n",
    "        self.max_text_length = max_text_length\n",
    "        self.max_num_words = max_num_words\n",
    "        self.tokenizer = Tokenizer(num_words=max_num_words, lower=True, split=' ')\n",
    "        self.tokenizer.fit_on_texts(np.array(texts, dtype=object))\n",
    "\n",
    "    def map_features(self, texts):\n",
    "        \"\"\"Map text to feature vetcors\"\"\"\n",
    "        feature_vectors = self.tokenizer.texts_to_sequences(np.array(texts, dtype=object))\n",
    "        feature_vectors = pad_sequences(feature_vectors, maxlen=self.max_text_length)\n",
    "        self.feature_vector_size = feature_vectors.shape[1];\n",
    "        return feature_vectors\n",
    "\n",
    "    def create_model(self, embed_dim, lstm_units):\n",
    "        \"\"\"Create a LSTM Neural Netwrok with Convolution layer\"\"\"\n",
    "        self.model = Sequential()\n",
    "        self.model.add(Embedding(self.max_num_words, embed_dim, input_length=self.feature_vector_size))\n",
    "        self.model.add(Dropout(0.5))\n",
    "        self.model.add(Conv1D(filters=32, kernel_size=5, padding='same', activation='relu'))\n",
    "        self.model.add(Dropout(0.5))\n",
    "        self.model.add(Conv1D(filters=32, kernel_size=5, padding='same', activation='relu'))\n",
    "        self.model.add(Dropout(0.5))\n",
    "        self.model.add(MaxPooling1D(pool_size=2))\n",
    "        self.model.add(SpatialDropout1D(0.5))\n",
    "        self.model.add(LSTM(lstm_units, dropout=0.5, recurrent_dropout=0.5))\n",
    "        self.model.add(Dropout(0.5))\n",
    "        self.model.add(Dense(7, activation='softmax'))\n",
    "\n",
    "    def compile_model(self, loss_function, optimizer, metrics):\n",
    "        \"\"\"Compile the model\"\"\"\n",
    "        self.model.compile(loss=loss_function, optimizer=optimizer, metrics=[metrics])\n",
    "\n",
    "    def train(self, X_train, Y_train, X_valid, Y_valid, epochs=10, batch_size=128, verbose=0):\n",
    "        \"\"\"Train the model\"\"\"\n",
    "        self.model.fit(X_train, Y_train, validation_data=(X_valid, Y_valid), batch_size=batch_size,\n",
    "                       epochs=epochs, verbose=verbose)\n",
    "\n",
    "    def classify(self, text):\n",
    "        \"\"\"Classify Emotions\"\"\"\n",
    "        text = self.clean_text(text)\n",
    "        feature_vectors = self.map_features(text)\n",
    "        predicted_label = np.argmax(self.model.predict(feature_vectors), axis=1)\n",
    "        return self.labels_emotions_map[predicted_label]\n",
    "\n",
    "    def load_model(self, model_path):\n",
    "        \"\"\"Load pre-trained model\"\"\"\n",
    "        self.model = load_model(model_path)\n",
    "\n",
    "    def save_model(self, model_path):\n",
    "        self.model.save(model_path)\n"
   ]
  },
  {
   "cell_type": "code",
   "execution_count": 7,
   "metadata": {},
   "outputs": [],
   "source": [
    "max_num_words=4000\n",
    "max_text_length=500\n",
    "embed_dim =128\n",
    "lstm_units =128\n",
    "emotionClassifier=EmotionClassifier()\n",
    "data['content']=data['content'].apply(emotionClassifier.clean_text)\n",
    "data['sentiment_label']=[emotionClassifier.emotions_labels_map[sentiment] for sentiment in data['sentiment']]\n",
    "emotionClassifier.create_tokenizer(data['content'],max_num_words,max_text_length)\n",
    "feature_vectors = emotionClassifier.map_features(data['content'])\n",
    "labels = np.array(data['sentiment_label']).reshape(-1,1)\n",
    "emotionClassifier.fit_label_encoder(labels)\n",
    "labels = emotionClassifier.encode_labels(labels)\n",
    "emotionClassifier.create_model(embed_dim, lstm_units)\n",
    "emotionClassifier.compile_model(loss_function='categorical_crossentropy', optimizer='rmsprop', metrics='accuracy')"
   ]
  },
  {
   "cell_type": "code",
   "execution_count": 13,
   "metadata": {},
   "outputs": [
    {
     "name": "stdout",
     "output_type": "stream",
     "text": [
      "_________________________________________________________________\n",
      "Layer (type)                 Output Shape              Param #   \n",
      "=================================================================\n",
      "embedding_3 (Embedding)      (None, 500, 128)          512000    \n",
      "_________________________________________________________________\n",
      "dropout_9 (Dropout)          (None, 500, 128)          0         \n",
      "_________________________________________________________________\n",
      "conv1d_5 (Conv1D)            (None, 500, 32)           20512     \n",
      "_________________________________________________________________\n",
      "dropout_10 (Dropout)         (None, 500, 32)           0         \n",
      "_________________________________________________________________\n",
      "conv1d_6 (Conv1D)            (None, 500, 32)           5152      \n",
      "_________________________________________________________________\n",
      "dropout_11 (Dropout)         (None, 500, 32)           0         \n",
      "_________________________________________________________________\n",
      "max_pooling1d_3 (MaxPooling1 (None, 250, 32)           0         \n",
      "_________________________________________________________________\n",
      "spatial_dropout1d_3 (Spatial (None, 250, 32)           0         \n",
      "_________________________________________________________________\n",
      "lstm_3 (LSTM)                (None, 128)               82432     \n",
      "_________________________________________________________________\n",
      "dropout_12 (Dropout)         (None, 128)               0         \n",
      "_________________________________________________________________\n",
      "dense_3 (Dense)              (None, 7)                 903       \n",
      "=================================================================\n",
      "Total params: 620,999\n",
      "Trainable params: 620,999\n",
      "Non-trainable params: 0\n",
      "_________________________________________________________________\n"
     ]
    }
   ],
   "source": [
    "emotionClassifier.model.summary()"
   ]
  },
  {
   "cell_type": "code",
   "execution_count": 14,
   "metadata": {},
   "outputs": [
    {
     "name": "stdout",
     "output_type": "stream",
     "text": [
      "Train on 6132 samples, validate on 1534 samples\n",
      "Epoch 1/20\n",
      "6132/6132 [==============================] - 91s 15ms/step - loss: 1.9478 - acc: 0.1479 - val_loss: 1.9463 - val_acc: 0.1349\n",
      "Epoch 2/20\n",
      "6132/6132 [==============================] - 91s 15ms/step - loss: 1.9442 - acc: 0.1505 - val_loss: 1.9368 - val_acc: 0.1767\n",
      "Epoch 3/20\n",
      "6132/6132 [==============================] - 103s 17ms/step - loss: 1.9002 - acc: 0.1872 - val_loss: 1.8292 - val_acc: 0.2327\n",
      "Epoch 4/20\n",
      "6132/6132 [==============================] - 109s 18ms/step - loss: 1.7927 - acc: 0.2542 - val_loss: 1.7249 - val_acc: 0.3344\n",
      "Epoch 5/20\n",
      "6132/6132 [==============================] - 96s 16ms/step - loss: 1.6910 - acc: 0.2979 - val_loss: 1.6125 - val_acc: 0.3983\n",
      "Epoch 6/20\n",
      "6132/6132 [==============================] - 95s 16ms/step - loss: 1.5929 - acc: 0.3514 - val_loss: 1.5127 - val_acc: 0.4498\n",
      "Epoch 7/20\n",
      "6132/6132 [==============================] - 84s 14ms/step - loss: 1.5268 - acc: 0.3902 - val_loss: 1.4834 - val_acc: 0.4016\n",
      "Epoch 8/20\n",
      "6132/6132 [==============================] - 77s 13ms/step - loss: 1.4587 - acc: 0.4281 - val_loss: 1.4222 - val_acc: 0.4518\n",
      "Epoch 9/20\n",
      "6132/6132 [==============================] - 75s 12ms/step - loss: 1.4075 - acc: 0.4553 - val_loss: 1.3957 - val_acc: 0.4791\n",
      "Epoch 10/20\n",
      "6132/6132 [==============================] - 75s 12ms/step - loss: 1.3630 - acc: 0.4773 - val_loss: 1.3897 - val_acc: 0.4785\n",
      "Epoch 11/20\n",
      "6132/6132 [==============================] - 74s 12ms/step - loss: 1.3306 - acc: 0.4943 - val_loss: 1.3746 - val_acc: 0.4870\n",
      "Epoch 12/20\n",
      "6132/6132 [==============================] - 74s 12ms/step - loss: 1.2896 - acc: 0.5261 - val_loss: 1.3758 - val_acc: 0.4824\n",
      "Epoch 13/20\n",
      "6132/6132 [==============================] - 79s 13ms/step - loss: 1.2593 - acc: 0.5364 - val_loss: 1.3630 - val_acc: 0.4961\n",
      "Epoch 14/20\n",
      "6132/6132 [==============================] - 74s 12ms/step - loss: 1.2323 - acc: 0.5538 - val_loss: 1.3582 - val_acc: 0.4889\n",
      "Epoch 15/20\n",
      "6132/6132 [==============================] - 82s 13ms/step - loss: 1.2020 - acc: 0.5657 - val_loss: 1.3822 - val_acc: 0.4974\n",
      "Epoch 16/20\n",
      "6132/6132 [==============================] - 82s 13ms/step - loss: 1.1696 - acc: 0.5780 - val_loss: 1.3924 - val_acc: 0.4941\n",
      "Epoch 17/20\n",
      "6132/6132 [==============================] - 81s 13ms/step - loss: 1.1493 - acc: 0.5915 - val_loss: 1.3771 - val_acc: 0.5143\n",
      "Epoch 18/20\n",
      "6132/6132 [==============================] - 77s 12ms/step - loss: 1.0981 - acc: 0.6018 - val_loss: 1.3949 - val_acc: 0.5235\n",
      "Epoch 19/20\n",
      "6132/6132 [==============================] - 71s 12ms/step - loss: 1.0985 - acc: 0.6091 - val_loss: 1.3935 - val_acc: 0.5261\n",
      "Epoch 20/20\n",
      "6132/6132 [==============================] - 76s 12ms/step - loss: 1.0580 - acc: 0.6248 - val_loss: 1.4012 - val_acc: 0.5209\n"
     ]
    }
   ],
   "source": [
    "X_train, X_valid, Y_train, Y_valid = train_test_split(feature_vectors,labels, test_size = 0.2, random_state = 42)\n",
    "emotionClassifier.train(X_train, Y_train, X_valid, Y_valid, batch_size=32, epochs=20, verbose=1)"
   ]
  },
  {
   "cell_type": "markdown",
   "metadata": {},
   "source": [
    "## Evaluation"
   ]
  },
  {
   "cell_type": "markdown",
   "metadata": {},
   "source": [
    "**Training**"
   ]
  },
  {
   "cell_type": "code",
   "execution_count": 16,
   "metadata": {},
   "outputs": [
    {
     "data": {
      "text/html": [
       "<div>\n",
       "<style scoped>\n",
       "    .dataframe tbody tr th:only-of-type {\n",
       "        vertical-align: middle;\n",
       "    }\n",
       "\n",
       "    .dataframe tbody tr th {\n",
       "        vertical-align: top;\n",
       "    }\n",
       "\n",
       "    .dataframe thead th {\n",
       "        text-align: right;\n",
       "    }\n",
       "</style>\n",
       "<table border=\"1\" class=\"dataframe\">\n",
       "  <thead>\n",
       "    <tr style=\"text-align: right;\">\n",
       "      <th></th>\n",
       "      <th>anger</th>\n",
       "      <th>disgust</th>\n",
       "      <th>fear</th>\n",
       "      <th>guilt</th>\n",
       "      <th>joy</th>\n",
       "      <th>sadness</th>\n",
       "      <th>shame</th>\n",
       "    </tr>\n",
       "  </thead>\n",
       "  <tbody>\n",
       "    <tr>\n",
       "      <th>anger</th>\n",
       "      <td>608</td>\n",
       "      <td>41</td>\n",
       "      <td>7</td>\n",
       "      <td>62</td>\n",
       "      <td>1</td>\n",
       "      <td>11</td>\n",
       "      <td>44</td>\n",
       "    </tr>\n",
       "    <tr>\n",
       "      <th>disgust</th>\n",
       "      <td>75</td>\n",
       "      <td>703</td>\n",
       "      <td>34</td>\n",
       "      <td>22</td>\n",
       "      <td>10</td>\n",
       "      <td>16</td>\n",
       "      <td>31</td>\n",
       "    </tr>\n",
       "    <tr>\n",
       "      <th>fear</th>\n",
       "      <td>3</td>\n",
       "      <td>24</td>\n",
       "      <td>728</td>\n",
       "      <td>7</td>\n",
       "      <td>9</td>\n",
       "      <td>17</td>\n",
       "      <td>9</td>\n",
       "    </tr>\n",
       "    <tr>\n",
       "      <th>guilt</th>\n",
       "      <td>43</td>\n",
       "      <td>5</td>\n",
       "      <td>0</td>\n",
       "      <td>457</td>\n",
       "      <td>0</td>\n",
       "      <td>4</td>\n",
       "      <td>46</td>\n",
       "    </tr>\n",
       "    <tr>\n",
       "      <th>joy</th>\n",
       "      <td>12</td>\n",
       "      <td>30</td>\n",
       "      <td>74</td>\n",
       "      <td>32</td>\n",
       "      <td>817</td>\n",
       "      <td>235</td>\n",
       "      <td>46</td>\n",
       "    </tr>\n",
       "    <tr>\n",
       "      <th>sadness</th>\n",
       "      <td>10</td>\n",
       "      <td>3</td>\n",
       "      <td>10</td>\n",
       "      <td>18</td>\n",
       "      <td>9</td>\n",
       "      <td>486</td>\n",
       "      <td>28</td>\n",
       "    </tr>\n",
       "    <tr>\n",
       "      <th>shame</th>\n",
       "      <td>122</td>\n",
       "      <td>66</td>\n",
       "      <td>35</td>\n",
       "      <td>290</td>\n",
       "      <td>31</td>\n",
       "      <td>95</td>\n",
       "      <td>666</td>\n",
       "    </tr>\n",
       "  </tbody>\n",
       "</table>\n",
       "</div>"
      ],
      "text/plain": [
       "         anger  disgust  fear  guilt  joy  sadness  shame\n",
       "anger      608       41     7     62    1       11     44\n",
       "disgust     75      703    34     22   10       16     31\n",
       "fear         3       24   728      7    9       17      9\n",
       "guilt       43        5     0    457    0        4     46\n",
       "joy         12       30    74     32  817      235     46\n",
       "sadness     10        3    10     18    9      486     28\n",
       "shame      122       66    35    290   31       95    666"
      ]
     },
     "execution_count": 16,
     "metadata": {},
     "output_type": "execute_result"
    }
   ],
   "source": [
    "pred = np.argmax(emotionClassifier.model.predict(X_train),axis=1)\n",
    "Y=np.argmax(Y_train,axis=1)\n",
    "confusionMatrix=pd.DataFrame(confusion_matrix(pred, Y))\n",
    "confusionMatrix.columns = emotionClassifier.emotions_labels_map.keys()\n",
    "confusionMatrix.index = emotionClassifier.emotions_labels_map.keys()\n",
    "confusionMatrix"
   ]
  },
  {
   "cell_type": "markdown",
   "metadata": {},
   "source": [
    "**Validation**"
   ]
  },
  {
   "cell_type": "code",
   "execution_count": 34,
   "metadata": {},
   "outputs": [
    {
     "data": {
      "text/plain": [
       "('During the period of falling in love, each time that we met and á especially when we had not met for a long time.',\n",
       " 'joy')"
      ]
     },
     "execution_count": 34,
     "metadata": {},
     "output_type": "execute_result"
    }
   ],
   "source": [
    "data['content'][0],data['sentiment'][0]"
   ]
  },
  {
   "cell_type": "code",
   "execution_count": 41,
   "metadata": {},
   "outputs": [
    {
     "ename": "AttributeError",
     "evalue": "'EmotionClassifier' object has no attribute 'clean'",
     "output_type": "error",
     "traceback": [
      "\u001b[1;31m---------------------------------------------------------------------------\u001b[0m",
      "\u001b[1;31mAttributeError\u001b[0m                            Traceback (most recent call last)",
      "\u001b[1;32m<ipython-input-41-cfa7a5e89d3c>\u001b[0m in \u001b[0;36m<module>\u001b[1;34m\u001b[0m\n\u001b[1;32m----> 1\u001b[1;33m \u001b[0memotionClassifier\u001b[0m\u001b[1;33m.\u001b[0m\u001b[0mclassify\u001b[0m\u001b[1;33m(\u001b[0m\u001b[0mdata\u001b[0m\u001b[1;33m[\u001b[0m\u001b[1;34m'content'\u001b[0m\u001b[1;33m]\u001b[0m\u001b[1;33m[\u001b[0m\u001b[1;36m0\u001b[0m\u001b[1;33m]\u001b[0m\u001b[1;33m)\u001b[0m\u001b[1;33m\u001b[0m\u001b[1;33m\u001b[0m\u001b[0m\n\u001b[0m",
      "\u001b[1;32m<ipython-input-4-b02f16837583>\u001b[0m in \u001b[0;36mclassify\u001b[1;34m(self, text)\u001b[0m\n\u001b[0;32m     77\u001b[0m     \u001b[1;32mdef\u001b[0m \u001b[0mclassify\u001b[0m\u001b[1;33m(\u001b[0m\u001b[0mself\u001b[0m\u001b[1;33m,\u001b[0m \u001b[0mtext\u001b[0m\u001b[1;33m)\u001b[0m\u001b[1;33m:\u001b[0m\u001b[1;33m\u001b[0m\u001b[1;33m\u001b[0m\u001b[0m\n\u001b[0;32m     78\u001b[0m         \u001b[1;34m\"\"\"Classify Emotions\"\"\"\u001b[0m\u001b[1;33m\u001b[0m\u001b[1;33m\u001b[0m\u001b[0m\n\u001b[1;32m---> 79\u001b[1;33m         \u001b[0mtext\u001b[0m \u001b[1;33m=\u001b[0m \u001b[0mself\u001b[0m\u001b[1;33m.\u001b[0m\u001b[0mclean\u001b[0m\u001b[1;33m(\u001b[0m\u001b[0mtext\u001b[0m\u001b[1;33m)\u001b[0m\u001b[1;33m\u001b[0m\u001b[1;33m\u001b[0m\u001b[0m\n\u001b[0m\u001b[0;32m     80\u001b[0m         \u001b[0mfeature_vectors\u001b[0m \u001b[1;33m=\u001b[0m \u001b[0mself\u001b[0m\u001b[1;33m.\u001b[0m\u001b[0mmap_features\u001b[0m\u001b[1;33m(\u001b[0m\u001b[0mtext\u001b[0m\u001b[1;33m)\u001b[0m\u001b[1;33m\u001b[0m\u001b[1;33m\u001b[0m\u001b[0m\n\u001b[0;32m     81\u001b[0m         \u001b[0mpredicted_label\u001b[0m \u001b[1;33m=\u001b[0m \u001b[0mnp\u001b[0m\u001b[1;33m.\u001b[0m\u001b[0margmax\u001b[0m\u001b[1;33m(\u001b[0m\u001b[0mself\u001b[0m\u001b[1;33m.\u001b[0m\u001b[0mmodel\u001b[0m\u001b[1;33m.\u001b[0m\u001b[0mpredict\u001b[0m\u001b[1;33m(\u001b[0m\u001b[0mfeature_vectors\u001b[0m\u001b[1;33m)\u001b[0m\u001b[1;33m,\u001b[0m \u001b[0maxis\u001b[0m\u001b[1;33m=\u001b[0m\u001b[1;36m1\u001b[0m\u001b[1;33m)\u001b[0m\u001b[1;33m\u001b[0m\u001b[1;33m\u001b[0m\u001b[0m\n",
      "\u001b[1;31mAttributeError\u001b[0m: 'EmotionClassifier' object has no attribute 'clean'"
     ]
    }
   ],
   "source": [
    "emotionClassifier.classify(data['content'][0])"
   ]
  },
  {
   "cell_type": "code",
   "execution_count": 17,
   "metadata": {},
   "outputs": [
    {
     "data": {
      "text/html": [
       "<div>\n",
       "<style scoped>\n",
       "    .dataframe tbody tr th:only-of-type {\n",
       "        vertical-align: middle;\n",
       "    }\n",
       "\n",
       "    .dataframe tbody tr th {\n",
       "        vertical-align: top;\n",
       "    }\n",
       "\n",
       "    .dataframe thead th {\n",
       "        text-align: right;\n",
       "    }\n",
       "</style>\n",
       "<table border=\"1\" class=\"dataframe\">\n",
       "  <thead>\n",
       "    <tr style=\"text-align: right;\">\n",
       "      <th></th>\n",
       "      <th>anger</th>\n",
       "      <th>disgust</th>\n",
       "      <th>fear</th>\n",
       "      <th>guilt</th>\n",
       "      <th>joy</th>\n",
       "      <th>sadness</th>\n",
       "      <th>shame</th>\n",
       "    </tr>\n",
       "  </thead>\n",
       "  <tbody>\n",
       "    <tr>\n",
       "      <th>anger</th>\n",
       "      <td>103</td>\n",
       "      <td>16</td>\n",
       "      <td>2</td>\n",
       "      <td>28</td>\n",
       "      <td>0</td>\n",
       "      <td>6</td>\n",
       "      <td>25</td>\n",
       "    </tr>\n",
       "    <tr>\n",
       "      <th>disgust</th>\n",
       "      <td>31</td>\n",
       "      <td>133</td>\n",
       "      <td>20</td>\n",
       "      <td>13</td>\n",
       "      <td>6</td>\n",
       "      <td>10</td>\n",
       "      <td>21</td>\n",
       "    </tr>\n",
       "    <tr>\n",
       "      <th>fear</th>\n",
       "      <td>9</td>\n",
       "      <td>17</td>\n",
       "      <td>134</td>\n",
       "      <td>11</td>\n",
       "      <td>10</td>\n",
       "      <td>5</td>\n",
       "      <td>15</td>\n",
       "    </tr>\n",
       "    <tr>\n",
       "      <th>guilt</th>\n",
       "      <td>24</td>\n",
       "      <td>5</td>\n",
       "      <td>2</td>\n",
       "      <td>56</td>\n",
       "      <td>0</td>\n",
       "      <td>1</td>\n",
       "      <td>20</td>\n",
       "    </tr>\n",
       "    <tr>\n",
       "      <th>joy</th>\n",
       "      <td>15</td>\n",
       "      <td>18</td>\n",
       "      <td>20</td>\n",
       "      <td>16</td>\n",
       "      <td>166</td>\n",
       "      <td>71</td>\n",
       "      <td>35</td>\n",
       "    </tr>\n",
       "    <tr>\n",
       "      <th>sadness</th>\n",
       "      <td>7</td>\n",
       "      <td>1</td>\n",
       "      <td>4</td>\n",
       "      <td>10</td>\n",
       "      <td>6</td>\n",
       "      <td>108</td>\n",
       "      <td>11</td>\n",
       "    </tr>\n",
       "    <tr>\n",
       "      <th>shame</th>\n",
       "      <td>34</td>\n",
       "      <td>34</td>\n",
       "      <td>25</td>\n",
       "      <td>71</td>\n",
       "      <td>29</td>\n",
       "      <td>31</td>\n",
       "      <td>99</td>\n",
       "    </tr>\n",
       "  </tbody>\n",
       "</table>\n",
       "</div>"
      ],
      "text/plain": [
       "         anger  disgust  fear  guilt  joy  sadness  shame\n",
       "anger      103       16     2     28    0        6     25\n",
       "disgust     31      133    20     13    6       10     21\n",
       "fear         9       17   134     11   10        5     15\n",
       "guilt       24        5     2     56    0        1     20\n",
       "joy         15       18    20     16  166       71     35\n",
       "sadness      7        1     4     10    6      108     11\n",
       "shame       34       34    25     71   29       31     99"
      ]
     },
     "execution_count": 17,
     "metadata": {},
     "output_type": "execute_result"
    }
   ],
   "source": [
    "pred = np.argmax(emotionClassifier.model.predict(X_valid),axis=1)\n",
    "Y=np.argmax(Y_valid,axis=1)\n",
    "confusionMatrix=pd.DataFrame(confusion_matrix(pred, Y))\n",
    "confusionMatrix.columns = emotionClassifier.emotions_labels_map.keys()\n",
    "confusionMatrix.index = emotionClassifier.emotions_labels_map.keys()\n",
    "confusionMatrix"
   ]
  },
  {
   "cell_type": "code",
   "execution_count": null,
   "metadata": {},
   "outputs": [],
   "source": [
    "When my grandfather died"
   ]
  },
  {
   "cell_type": "code",
   "execution_count": 23,
   "metadata": {},
   "outputs": [
    {
     "ename": "PicklingError",
     "evalue": "Can't pickle <class '__main__.EmotionClassifier'>: it's not the same object as __main__.EmotionClassifier",
     "output_type": "error",
     "traceback": [
      "\u001b[1;31m---------------------------------------------------------------------------\u001b[0m",
      "\u001b[1;31mPicklingError\u001b[0m                             Traceback (most recent call last)",
      "\u001b[1;32m<ipython-input-23-5620edf1355a>\u001b[0m in \u001b[0;36m<module>\u001b[1;34m\u001b[0m\n\u001b[0;32m      4\u001b[0m \u001b[0moutput_file\u001b[0m \u001b[1;33m=\u001b[0m \u001b[1;34m'model/emotion_classifer.pkl'\u001b[0m\u001b[1;33m\u001b[0m\u001b[1;33m\u001b[0m\u001b[0m\n\u001b[0;32m      5\u001b[0m \u001b[1;32mwith\u001b[0m \u001b[0mopen\u001b[0m\u001b[1;33m(\u001b[0m\u001b[0moutput_file\u001b[0m\u001b[1;33m,\u001b[0m \u001b[1;34m'wb'\u001b[0m\u001b[1;33m)\u001b[0m \u001b[1;32mas\u001b[0m \u001b[0moutput\u001b[0m\u001b[1;33m:\u001b[0m\u001b[1;33m\u001b[0m\u001b[1;33m\u001b[0m\u001b[0m\n\u001b[1;32m----> 6\u001b[1;33m     \u001b[0mpickle\u001b[0m\u001b[1;33m.\u001b[0m\u001b[0mdump\u001b[0m\u001b[1;33m(\u001b[0m\u001b[0memotionClassifier\u001b[0m\u001b[1;33m,\u001b[0m \u001b[0moutput\u001b[0m\u001b[1;33m,\u001b[0m \u001b[0mpickle\u001b[0m\u001b[1;33m.\u001b[0m\u001b[0mHIGHEST_PROTOCOL\u001b[0m\u001b[1;33m)\u001b[0m\u001b[1;33m\u001b[0m\u001b[1;33m\u001b[0m\u001b[0m\n\u001b[0m",
      "\u001b[1;31mPicklingError\u001b[0m: Can't pickle <class '__main__.EmotionClassifier'>: it's not the same object as __main__.EmotionClassifier"
     ]
    }
   ],
   "source": [
    "import pickle\n",
    "emotionClassifier.save_model('model/lstm_model.h5')\n",
    "emotionClassifier.model = None\n",
    "output_file = 'model/emotion_classifer.pkl'\n",
    "with open(output_file, 'wb') as output:\n",
    "    pickle.dump(emotionClassifier, output, pickle.HIGHEST_PROTOCOL)"
   ]
  },
  {
   "cell_type": "code",
   "execution_count": 47,
   "metadata": {},
   "outputs": [],
   "source": [
    "with open('model/emotion_classifer.pkl', 'rb') as input:\n",
    "    model = pickle.load(input)\n",
    "    model.load_model('model/lstm_model.h5')\n",
    "\n",
    "    model.tokenizer.oov_token = None"
   ]
  },
  {
   "cell_type": "code",
   "execution_count": 48,
   "metadata": {},
   "outputs": [
    {
     "data": {
      "text/plain": [
       "'joy'"
      ]
     },
     "execution_count": 48,
     "metadata": {},
     "output_type": "execute_result"
    }
   ],
   "source": [
    "model.classify(\"During the period of falling in love, each time that we met and á especially when we had not met for a long time\")"
   ]
  },
  {
   "cell_type": "code",
   "execution_count": 26,
   "metadata": {},
   "outputs": [
    {
     "data": {
      "text/html": [
       "<div>\n",
       "<style scoped>\n",
       "    .dataframe tbody tr th:only-of-type {\n",
       "        vertical-align: middle;\n",
       "    }\n",
       "\n",
       "    .dataframe tbody tr th {\n",
       "        vertical-align: top;\n",
       "    }\n",
       "\n",
       "    .dataframe thead th {\n",
       "        text-align: right;\n",
       "    }\n",
       "</style>\n",
       "<table border=\"1\" class=\"dataframe\">\n",
       "  <thead>\n",
       "    <tr style=\"text-align: right;\">\n",
       "      <th></th>\n",
       "      <th>anger</th>\n",
       "      <th>disgust</th>\n",
       "      <th>fear</th>\n",
       "      <th>guilt</th>\n",
       "      <th>joy</th>\n",
       "      <th>sadness</th>\n",
       "      <th>shame</th>\n",
       "    </tr>\n",
       "  </thead>\n",
       "  <tbody>\n",
       "    <tr>\n",
       "      <th>anger</th>\n",
       "      <td>103</td>\n",
       "      <td>16</td>\n",
       "      <td>2</td>\n",
       "      <td>28</td>\n",
       "      <td>0</td>\n",
       "      <td>6</td>\n",
       "      <td>25</td>\n",
       "    </tr>\n",
       "    <tr>\n",
       "      <th>disgust</th>\n",
       "      <td>31</td>\n",
       "      <td>133</td>\n",
       "      <td>20</td>\n",
       "      <td>13</td>\n",
       "      <td>6</td>\n",
       "      <td>10</td>\n",
       "      <td>21</td>\n",
       "    </tr>\n",
       "    <tr>\n",
       "      <th>fear</th>\n",
       "      <td>9</td>\n",
       "      <td>17</td>\n",
       "      <td>134</td>\n",
       "      <td>11</td>\n",
       "      <td>10</td>\n",
       "      <td>5</td>\n",
       "      <td>15</td>\n",
       "    </tr>\n",
       "    <tr>\n",
       "      <th>guilt</th>\n",
       "      <td>24</td>\n",
       "      <td>5</td>\n",
       "      <td>2</td>\n",
       "      <td>56</td>\n",
       "      <td>0</td>\n",
       "      <td>1</td>\n",
       "      <td>20</td>\n",
       "    </tr>\n",
       "    <tr>\n",
       "      <th>joy</th>\n",
       "      <td>15</td>\n",
       "      <td>18</td>\n",
       "      <td>20</td>\n",
       "      <td>16</td>\n",
       "      <td>166</td>\n",
       "      <td>71</td>\n",
       "      <td>35</td>\n",
       "    </tr>\n",
       "    <tr>\n",
       "      <th>sadness</th>\n",
       "      <td>7</td>\n",
       "      <td>1</td>\n",
       "      <td>4</td>\n",
       "      <td>10</td>\n",
       "      <td>6</td>\n",
       "      <td>108</td>\n",
       "      <td>11</td>\n",
       "    </tr>\n",
       "    <tr>\n",
       "      <th>shame</th>\n",
       "      <td>34</td>\n",
       "      <td>34</td>\n",
       "      <td>25</td>\n",
       "      <td>71</td>\n",
       "      <td>29</td>\n",
       "      <td>31</td>\n",
       "      <td>99</td>\n",
       "    </tr>\n",
       "  </tbody>\n",
       "</table>\n",
       "</div>"
      ],
      "text/plain": [
       "         anger  disgust  fear  guilt  joy  sadness  shame\n",
       "anger      103       16     2     28    0        6     25\n",
       "disgust     31      133    20     13    6       10     21\n",
       "fear         9       17   134     11   10        5     15\n",
       "guilt       24        5     2     56    0        1     20\n",
       "joy         15       18    20     16  166       71     35\n",
       "sadness      7        1     4     10    6      108     11\n",
       "shame       34       34    25     71   29       31     99"
      ]
     },
     "execution_count": 26,
     "metadata": {},
     "output_type": "execute_result"
    }
   ],
   "source": [
    "pred = np.argmax(emotionClassifier.model.predict(X_valid),axis=1)\n",
    "Y=np.argmax(Y_valid,axis=1)\n",
    "confusionMatrix=pd.DataFrame(confusion_matrix(pred, Y))\n",
    "confusionMatrix.columns = emotionClassifier.emotions_labels_map.keys()\n",
    "confusionMatrix.index = emotionClassifier.emotions_labels_map.keys()\n",
    "confusionMatrix"
   ]
  },
  {
   "cell_type": "code",
   "execution_count": null,
   "metadata": {},
   "outputs": [],
   "source": []
  }
 ],
 "metadata": {
  "kernelspec": {
   "display_name": "NLP",
   "language": "python",
   "name": "nlp"
  },
  "language_info": {
   "codemirror_mode": {
    "name": "ipython",
    "version": 3
   },
   "file_extension": ".py",
   "mimetype": "text/x-python",
   "name": "python",
   "nbconvert_exporter": "python",
   "pygments_lexer": "ipython3",
   "version": "3.6.7"
  }
 },
 "nbformat": 4,
 "nbformat_minor": 2
}
